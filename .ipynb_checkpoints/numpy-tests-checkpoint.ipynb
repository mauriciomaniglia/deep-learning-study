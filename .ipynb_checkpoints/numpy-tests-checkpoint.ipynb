{
 "cells": [
  {
   "cell_type": "code",
   "execution_count": 45,
   "id": "277c07e7-ab54-41f9-a210-60c15366c984",
   "metadata": {},
   "outputs": [
    {
     "name": "stdout",
     "output_type": "stream",
     "text": [
      "[0 1 2 3]\n",
      "[4 5 6 7]\n",
      "[[0 1 2 3]\n",
      " [4 5 6 7]]\n",
      "[[0. 0. 0. 0.]\n",
      " [0. 0. 0. 0.]]\n",
      "[[0.01921655 0.58685779 0.00743658 0.02027761 0.26722764]\n",
      " [0.99359366 0.18749793 0.23432574 0.42061348 0.79165586]]\n"
     ]
    }
   ],
   "source": [
    "import numpy as np\n",
    "\n",
    "a = np.array([0,1,2,3])\n",
    "b = np.array([4,5,6,7])\n",
    "c = np.array([[0,1,2,3], \n",
    "              [4,5,6,7]])\n",
    "\n",
    "d = np.zeros((2,4))\n",
    "e = np.random.rand(2,5)\n",
    "\n",
    "print(a)\n",
    "print(b)\n",
    "print(c)\n",
    "print(d)\n",
    "print(e)"
   ]
  },
  {
   "cell_type": "code",
   "execution_count": 46,
   "id": "c0799cb1-9e9f-4b5a-8029-86be11d0e484",
   "metadata": {},
   "outputs": [
    {
     "name": "stdout",
     "output_type": "stream",
     "text": [
      "[0.  0.1 0.2 0.3]\n"
     ]
    }
   ],
   "source": [
    "# Multiplies every number in vector a by 0.1\n",
    "print(a * 0.1)"
   ]
  },
  {
   "cell_type": "code",
   "execution_count": 47,
   "id": "693bad28-5d9f-487c-8b09-ed50d8e8d36a",
   "metadata": {},
   "outputs": [
    {
     "name": "stdout",
     "output_type": "stream",
     "text": [
      "[[0.  0.2 0.4 0.6]\n",
      " [0.8 1.  1.2 1.4]]\n"
     ]
    }
   ],
   "source": [
    "# Multiplies every number in matrix c by 0.2\n",
    "print(c * 0.2)"
   ]
  },
  {
   "cell_type": "code",
   "execution_count": 48,
   "id": "4c214338-7350-4357-8265-9dfb706f8253",
   "metadata": {},
   "outputs": [
    {
     "name": "stdout",
     "output_type": "stream",
     "text": [
      "[ 0  5 12 21]\n"
     ]
    }
   ],
   "source": [
    "# Multiplies elementwise between a and b (columns paired)\n",
    "print(a * b)"
   ]
  },
  {
   "cell_type": "code",
   "execution_count": 49,
   "id": "339c7328-c37d-4a7f-a9fc-5b270bef73f4",
   "metadata": {},
   "outputs": [
    {
     "name": "stdout",
     "output_type": "stream",
     "text": [
      "[0.  1.  2.4 4.2]\n"
     ]
    }
   ],
   "source": [
    "# Multiplies elementwise, then multiplies by 0.2\n",
    "print(a * b * 0.2)"
   ]
  },
  {
   "cell_type": "code",
   "execution_count": 50,
   "id": "9d77a5e5-088b-4507-8b30-c0691870e575",
   "metadata": {},
   "outputs": [
    {
     "name": "stdout",
     "output_type": "stream",
     "text": [
      "[[ 0  1  4  9]\n",
      " [ 0  5 12 21]]\n"
     ]
    }
   ],
   "source": [
    "# Performs elementwise multiplication on every row of matrix c, \n",
    "# because c has the same number of columns as a\n",
    "\n",
    "print(a * c)"
   ]
  },
  {
   "cell_type": "code",
   "execution_count": 51,
   "id": "f5dd14d1-933f-4319-a2f1-4e06f2875c33",
   "metadata": {},
   "outputs": [],
   "source": [
    "# Because a and e don’t have the same number of columns, this throws \n",
    "# “Value Error: operands could not be broadcast together with...”\n",
    "\n",
    "# print(a * e)"
   ]
  },
  {
   "cell_type": "code",
   "execution_count": 66,
   "id": "d2af6f68-9d12-4e88-a7c9-6e8a8734761f",
   "metadata": {},
   "outputs": [
    {
     "name": "stdout",
     "output_type": "stream",
     "text": [
      "(1, 3)\n"
     ]
    }
   ],
   "source": [
    "a = np.array([[2, 2, 2, 2]])\n",
    "b = np.array([[1, 1, 3], [1, 2, 3], [1, 2, 3], [1, 2, 3]])\n",
    "\n",
    "c = a.dot(b)\n",
    "print(c.shape)"
   ]
  },
  {
   "cell_type": "code",
   "execution_count": 67,
   "id": "9f7f4d59-afc1-4a0f-b6bf-dc9bab8d8a9b",
   "metadata": {},
   "outputs": [
    {
     "name": "stdout",
     "output_type": "stream",
     "text": [
      "(2, 3)\n"
     ]
    }
   ],
   "source": [
    "a = np.zeros((2,4))\n",
    "b = np.zeros((4,3))\n",
    "\n",
    "c = a.dot(b)\n",
    "print(c.shape)"
   ]
  },
  {
   "cell_type": "code",
   "execution_count": 68,
   "id": "59fd0cd5-008b-4781-8bf5-712bd0965cbe",
   "metadata": {},
   "outputs": [
    {
     "name": "stdout",
     "output_type": "stream",
     "text": [
      "(2, 3)\n"
     ]
    }
   ],
   "source": [
    "e = np.zeros((2,1))\n",
    "f = np.zeros((1,3))\n",
    "\n",
    "g = e.dot(f)\n",
    "print(g.shape)"
   ]
  },
  {
   "cell_type": "code",
   "execution_count": 70,
   "id": "7af77486-c42f-44fa-a247-8dd7ddc04b2c",
   "metadata": {},
   "outputs": [
    {
     "name": "stdout",
     "output_type": "stream",
     "text": [
      "(4, 6)\n"
     ]
    }
   ],
   "source": [
    "h = np.zeros((5,4)).T #Throws an error; .T flips the rows and columns of a matrix.\n",
    "i = np.zeros((5,6))\n",
    "\n",
    "j = h.dot(i)\n",
    "print(j.shape)"
   ]
  },
  {
   "cell_type": "code",
   "execution_count": null,
   "id": "64e8e88b-13d8-49fc-937d-fb582ae5f7e3",
   "metadata": {},
   "outputs": [],
   "source": []
  }
 ],
 "metadata": {
  "kernelspec": {
   "display_name": "Python 3 (ipykernel)",
   "language": "python",
   "name": "python3"
  },
  "language_info": {
   "codemirror_mode": {
    "name": "ipython",
    "version": 3
   },
   "file_extension": ".py",
   "mimetype": "text/x-python",
   "name": "python",
   "nbconvert_exporter": "python",
   "pygments_lexer": "ipython3",
   "version": "3.9.9"
  }
 },
 "nbformat": 4,
 "nbformat_minor": 5
}
